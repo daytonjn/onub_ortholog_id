{
 "cells": [
  {
   "cell_type": "markdown",
   "id": "13877ca6",
   "metadata": {},
   "source": [
    "Filter BLASTp results to identify Reciprocal Best Hits (RBHs)"
   ]
  },
  {
   "cell_type": "code",
   "execution_count": 7,
   "id": "a44227be",
   "metadata": {},
   "outputs": [
    {
     "ename": "ModuleNotFoundError",
     "evalue": "No module named 'pandas'",
     "output_type": "error",
     "traceback": [
      "\u001b[0;31m---------------------------------------------------------------------------\u001b[0m",
      "\u001b[0;31mModuleNotFoundError\u001b[0m                       Traceback (most recent call last)",
      "Cell \u001b[0;32mIn[7], line 1\u001b[0m\n\u001b[0;32m----> 1\u001b[0m \u001b[38;5;28;01mimport\u001b[39;00m \u001b[38;5;21;01mpandas\u001b[39;00m \u001b[38;5;28;01mas\u001b[39;00m \u001b[38;5;21;01mpd\u001b[39;00m\n\u001b[1;32m      2\u001b[0m \u001b[38;5;28;01mimport\u001b[39;00m \u001b[38;5;21;01mos\u001b[39;00m\n\u001b[1;32m      4\u001b[0m os\u001b[38;5;241m.\u001b[39mgetcwd()\n",
      "\u001b[0;31mModuleNotFoundError\u001b[0m: No module named 'pandas'"
     ]
    }
   ],
   "source": [
    "import pandas as pd\n",
    "import os\n",
    "\n",
    "os.getcwd()"
   ]
  },
  {
   "cell_type": "code",
   "execution_count": null,
   "id": "13483eae",
   "metadata": {},
   "outputs": [],
   "source": [
    "def find_reciprocal_hits(file1, file2, output_rbh, output_rbh_no, species_a, species_b):\n",
    "    # Load BLASTP results into DataFrames\n",
    "    col_names = [\"query\", \"subject\", \"perc_identity\", \"alignment_length\", \n",
    "                 \"mismatches\", \"gap_opens\", \"q_start\", \"q_end\", \n",
    "                 \"s_start\", \"s_end\", \"evalue\", \"bit_score\"]\n",
    "    \n",
    "    df1 = pd.read_csv(file1, sep=\"\\t\", names=col_names)\n",
    "    df2 = pd.read_csv(file2, sep=\"\\t\", names=col_names)\n",
    "    \n",
    "    # Extract the best hits from both files by keeping only best hit per query based on e-value\n",
    "    # Ties are broken by selecting the highest bit score (% similarity)\n",
    "    best_hits1 = df1.sort_values(by = [\"query\", \"evalue\", \"bit_score\"],\n",
    "                                 ascending=[True, True, False]).drop_duplicates(subset=[\"query\"], keep=\"first\")\n",
    "    best_hits2 = df2.sort_values(by = [\"query\", \"evalue\", \"bit_score\"],\n",
    "                                 ascending=[True, True, False]).drop_duplicates(subset=[\"query\"], keep=\"first\")\n",
    "    \n",
    "    # Create dictionaries for quick lookup\n",
    "    best_hits1_dict = dict(zip(best_hits1[\"query\"], best_hits1[\"subject\"]))\n",
    "    best_hits2_dict = dict(zip(best_hits2[\"query\"], best_hits2[\"subject\"]))\n",
    "    \n",
    "    # Find reciprocal best hits\n",
    "    rbh = []\n",
    "    rbh_no = [] # to sore queries without a RBH\n",
    "    for query, subject in best_hits1_dict.items():\n",
    "        if best_hits2_dict.get(subject) == query:\n",
    "            rbh.append((query, subject))\n",
    "        else:\n",
    "            rbh_no.append(query)\n",
    "    \n",
    "    # Save the results with RBH\n",
    "    rbh_df = pd.DataFrame(rbh, columns=[f\"{species_a}\", f\"{species_b}\"])\n",
    "    rbh_df.to_csv(output_rbh, sep=\"\\t\", index=False)\n",
    "    print(f\"Reciprocal best hits saved to {output_rbh}\")\n",
    "    \n",
    "    # Save the queries with no reciprocal match\n",
    "    rbh_no_df = pd.DataFrame(rbh_no, columns=[f\"{species_a}\"])\n",
    "    rbh_no_df.to_csv(output_rbh_no, sep=\"\\t\", index=False)\n",
    "    print(f\"Queries from {species_a} with no reciprocal match saved to {output_rbh_no}\")"
   ]
  },
  {
   "cell_type": "code",
   "execution_count": null,
   "id": "9b9b5ebe",
   "metadata": {},
   "outputs": [],
   "source": [
    "# File paths\n",
    "file1 = \"/cluster/tufts/dopmanlab/Jacob/onub_ortholog_id/output/Onub2Dmel_blastp_v2.txt\"\n",
    "file2 = \"/cluster/tufts/dopmanlab/Jacob/onub_ortholog_id/output/Dmel2Onub_blastp_v2.txt\"\n",
    "output_rbh = \"/cluster/tufts/dopmanlab/Jacob/onub_ortholog_id/output/OnubDmel_rbh_v2.txt\"\n",
    "output_rbh_no = \"/cluster/tufts/dopmanlab/Jacob/onub_ortholog_id/output/OnubDmel_rbh_no_v2.txt\"\n",
    "species_a = \"ostrinia_nubilalis\"\n",
    "species_b = \"drosophila_melanogaster\""
   ]
  },
  {
   "cell_type": "code",
   "execution_count": null,
   "id": "71f5e0f1",
   "metadata": {
    "scrolled": true
   },
   "outputs": [],
   "source": [
    "with open(file1, \"r\") as file:\n",
    "    ln = file.readlines()\n",
    "    total_line = len(ln)\n",
    "    print(f\"Number of lines in file 1: {total_line}\")\n",
    "    \n",
    "with open(file2, \"r\") as file:\n",
    "    ln = file.readlines()\n",
    "    total_line = len(ln)\n",
    "    print(f\"Number of lines in file 2: {total_line}\")"
   ]
  },
  {
   "cell_type": "code",
   "execution_count": null,
   "id": "64eaf5d2",
   "metadata": {
    "scrolled": true
   },
   "outputs": [],
   "source": [
    "find_reciprocal_hits(file1, file2, output_rbh, output_rbh_no, species_a, species_b)"
   ]
  },
  {
   "cell_type": "code",
   "execution_count": null,
   "id": "b883d18b",
   "metadata": {},
   "outputs": [],
   "source": [
    "with open(output_file, \"r\") as file:\n",
    "    ln = file.readlines()\n",
    "    total_line = len(ln)\n",
    "    print(f\"Number of lines in file 2: {total_line}\")"
   ]
  }
 ],
 "metadata": {
  "kernelspec": {
   "display_name": "biopython 1.83",
   "language": "python",
   "name": "biopython_1_83"
  },
  "language_info": {
   "codemirror_mode": {
    "name": "ipython",
    "version": 3
   },
   "file_extension": ".py",
   "mimetype": "text/x-python",
   "name": "python",
   "nbconvert_exporter": "python",
   "pygments_lexer": "ipython3",
   "version": "3.11.9"
  }
 },
 "nbformat": 4,
 "nbformat_minor": 5
}

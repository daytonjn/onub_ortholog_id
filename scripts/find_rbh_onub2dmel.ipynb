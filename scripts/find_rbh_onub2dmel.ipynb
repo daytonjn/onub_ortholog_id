{
 "cells": [
  {
   "cell_type": "markdown",
   "id": "13877ca6",
   "metadata": {},
   "source": [
    "Filter BLASTp results to identify Reciprocal Best Hits (RBHs)"
   ]
  },
  {
   "cell_type": "code",
   "execution_count": 10,
   "id": "a44227be",
   "metadata": {},
   "outputs": [],
   "source": [
    "import pandas as pd\n",
    "import os\n",
    "\n",
    "os.getcwd()"
   ]
  },
  {
   "cell_type": "code",
   "execution_count": 51,
   "id": "13483eae",
   "metadata": {},
   "outputs": [],
   "source": [
    "def find_reciprocal_hits(file1, file2, output_rbh, output_rbh_no, species_a, species_b):\n",
    "    # Load BLASTP results into DataFrames\n",
    "    col_names = [\"query\", \"subject\", \"perc_identity\", \"alignment_length\", \n",
    "                 \"mismatches\", \"gap_opens\", \"q_start\", \"q_end\", \n",
    "                 \"s_start\", \"s_end\", \"evalue\", \"bit_score\"]\n",
    "    \n",
    "    df1 = pd.read_csv(file1, sep=\"\\t\", names=col_names)\n",
    "    df2 = pd.read_csv(file2, sep=\"\\t\", names=col_names)\n",
    "    \n",
    "    # Extract the best hits from both files by keeping only best hit per query based on e-value\n",
    "    # Ties are broken by selecting the highest bit score (% similarity)\n",
    "    best_hits1 = df1.sort_values(by = [\"query\", \"evalue\", \"bit_score\"],\n",
    "                                 ascending=[True, True, False]).drop_duplicates(subset=[\"query\"], keep=\"first\")\n",
    "    best_hits2 = df2.sort_values(by = [\"query\", \"evalue\", \"bit_score\"],\n",
    "                                 ascending=[True, True, False]).drop_duplicates(subset=[\"query\"], keep=\"first\")\n",
    "    \n",
    "    # Create dictionaries for quick lookup\n",
    "    best_hits1_dict = dict(zip(best_hits1[\"query\"], best_hits1[\"subject\"]))\n",
    "    best_hits2_dict = dict(zip(best_hits2[\"query\"], best_hits2[\"subject\"]))\n",
    "    \n",
    "    # Find reciprocal best hits\n",
    "    rbh = []\n",
    "    rbh_no = [] # to sore queries without a RBH\n",
    "    for query, subject in best_hits1_dict.items():\n",
    "        if best_hits2_dict.get(subject) == query:\n",
    "            rbh.append((query, subject))\n",
    "        else:\n",
    "            rbh_no.append(query)\n",
    "    \n",
    "    # Save the results with RBH\n",
    "    rbh_df = pd.DataFrame(rbh, columns=[f\"{species_a}\", f\"{species_b}\"])\n",
    "    rbh_df.to_csv(output_rbh, sep=\"\\t\", index=False)\n",
    "    print(f\"Reciprocal best hits saved to {output_rbh}\")\n",
    "    \n",
    "    # Save the queries with no reciprocal match\n",
    "    rbh_no_df = pd.DataFrame(rbh_no, columns=[f\"{species_a}\"])\n",
    "    rbh_no_df.to_csv(output_rbh_no, sep=\"\\t\", index=False)\n",
    "    print(f\"Queries from {species_a} with no reciprocal match saved to {output_rbh_no}\")"
   ]
  },
  {
   "cell_type": "code",
   "execution_count": 52,
   "id": "9b9b5ebe",
   "metadata": {},
   "outputs": [],
   "source": [
    "# File paths\n",
    "file1 = \"/cluster/tufts/dopmanlab/Jacob/onub_ortholog_id/output/Onub2Dmel_blastp.txt\"\n",
    "file2 = \"/cluster/tufts/dopmanlab/Jacob/onub_ortholog_id/output/Dmel2Onub_blastp.txt\"\n",
    "output_rbh = \"/cluster/tufts/dopmanlab/Jacob/onub_ortholog_id/output/OnubDmel_rbh.txt\"\n",
    "output_rbh_no = \"/cluster/tufts/dopmanlab/Jacob/onub_ortholog_id/output/OnubDmel_rbh_no.txt\"\n",
    "species_a = \"ostrinia_nubilalis\"\n",
    "species_b = \"drosophila_melanogaster\""
   ]
  },
  {
   "cell_type": "code",
   "execution_count": 53,
   "id": "71f5e0f1",
   "metadata": {
    "scrolled": true
   },
   "outputs": [
    {
     "name": "stdout",
     "output_type": "stream",
     "text": [
      "Number of lines in file 1: 15345\n",
      "Number of lines in file 2: 25829\n"
     ]
    }
   ],
   "source": [
    "with open(file1, \"r\") as file:\n",
    "    ln = file.readlines()\n",
    "    total_line = len(ln)\n",
    "    print(f\"Number of lines in file 1: {total_line}\")\n",
    "    \n",
    "with open(file2, \"r\") as file:\n",
    "    ln = file.readlines()\n",
    "    total_line = len(ln)\n",
    "    print(f\"Number of lines in file 2: {total_line}\")"
   ]
  },
  {
   "cell_type": "code",
   "execution_count": 54,
   "id": "64eaf5d2",
   "metadata": {
    "scrolled": true
   },
   "outputs": [
    {
     "name": "stdout",
     "output_type": "stream",
     "text": [
      "Reciprocal best hits saved to /cluster/tufts/dopmanlab/Jacob/onub_ortholog_id/output/OnubDmel_rbh.txt\n",
      "Queries from ostrinia_nubilalis with no reciprocal match saved to /cluster/tufts/dopmanlab/Jacob/onub_ortholog_id/output/OnubDmel_rbh_no.txt\n"
     ]
    }
   ],
   "source": [
    "find_reciprocal_hits(file1, file2, output_rbh, output_rbh_no, species_a, species_b)"
   ]
  },
  {
   "cell_type": "code",
   "execution_count": 55,
   "id": "b883d18b",
   "metadata": {},
   "outputs": [
    {
     "name": "stdout",
     "output_type": "stream",
     "text": [
      "Number of lines in file 2: 7539\n"
     ]
    }
   ],
   "source": [
    "with open(output_file, \"r\") as file:\n",
    "    ln = file.readlines()\n",
    "    total_line = len(ln)\n",
    "    print(f\"Number of lines in file 2: {total_line}\")"
   ]
  }
 ],
 "metadata": {
  "kernelspec": {
   "display_name": "Python 3",
   "language": "python",
   "name": "python3"
  },
  "language_info": {
   "codemirror_mode": {
    "name": "ipython",
    "version": 3
   },
   "file_extension": ".py",
   "mimetype": "text/x-python",
   "name": "python",
   "nbconvert_exporter": "python",
   "pygments_lexer": "ipython3",
   "version": "3.8.8"
  }
 },
 "nbformat": 4,
 "nbformat_minor": 5
}
